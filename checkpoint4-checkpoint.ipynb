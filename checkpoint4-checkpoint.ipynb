{
 "cells": [
  {
   "cell_type": "code",
   "execution_count": 2,
   "id": "ad492cfc",
   "metadata": {},
   "outputs": [
    {
     "name": "stdout",
     "output_type": "stream",
     "text": [
      "36\n"
     ]
    }
   ],
   "source": [
    "#écrire un programme qui multiplie tout les élements d'une liste\n",
    "liste = [2,3,6]\n",
    "a = 1\n",
    "for  i in liste :\n",
    "    a = a*i\n",
    "print(a)\n",
    "    "
   ]
  },
  {
   "cell_type": "code",
   "execution_count": 3,
   "id": "454b1c8a",
   "metadata": {},
   "outputs": [
    {
     "name": "stdout",
     "output_type": "stream",
     "text": [
      "[(2, 1), (1, 2), (2, 3), (4, 4), (2, 5)]\n"
     ]
    }
   ],
   "source": [
    "#écrire un programme pour obtenir une liste dans l'ordre croissant par le dernier élement de chaque tuple   \n",
    "def takesecond(posit):\n",
    "    return posit[1]\n",
    "liste=[(2,5),(1,2),(4,4),(2,3),(2,1)]\n",
    "liste.sort(key = takesecond)\n",
    "print(liste)"
   ]
  },
  {
   "cell_type": "code",
   "execution_count": 18,
   "id": "49c51417",
   "metadata": {},
   "outputs": [
    {
     "name": "stdout",
     "output_type": "stream",
     "text": [
      "{'a': 400, 'b': 400, 'd': 400, 'c': 300}\n"
     ]
    }
   ],
   "source": [
    "#écrire un programme pour combiner deux dictionnaires\n",
    "d1 = {'a': 100, 'b':200, 'c':300}\n",
    "d2 = {'a':300, 'b':200, 'd':400}\n",
    "d = {}\n",
    "for i in d1.items():\n",
    "    for j in d2.items(): \n",
    "        if i[0] == j[0]:\n",
    "            d[i[0]]= i[1] + j[1]\n",
    "            d2[i[0]]=i[1] + j[1]\n",
    "        else :\n",
    "            d[i[0]] = i[1]\n",
    "            d[j[0]] = j[1]\n",
    "print(d)"
   ]
  },
  {
   "cell_type": "code",
   "execution_count": 5,
   "id": "a9b21b2e",
   "metadata": {},
   "outputs": [
    {
     "name": "stdout",
     "output_type": "stream",
     "text": [
      "entrez un entier : 8\n",
      "{1: 1, 2: 4, 3: 9, 4: 16, 5: 25, 6: 36, 7: 49, 8: 64}\n"
     ]
    }
   ],
   "source": [
    "#écrire un programme qui génère un dictionnaire qui contient des valeurs doubles\n",
    "n = int(input(\"entrez un entier : \"))\n",
    "dict = {}\n",
    "for i in range(1,n+1):\n",
    "    dict[i]= i*i\n",
    "print(dict)"
   ]
  },
  {
   "cell_type": "code",
   "execution_count": 3,
   "id": "b71a0de8",
   "metadata": {},
   "outputs": [
    {
     "name": "stdout",
     "output_type": "stream",
     "text": [
      "[('item3', '24.5'), ('item2', '15.10'), ('item1', '12.20')]\n"
     ]
    }
   ],
   "source": [
    "#écrire un programme qui permert de trier le tuple par son élément flottant\n",
    "liste = [('item1','12.20'), ('item2','15.10'), ('item3','24.5')]\n",
    "liste.reverse()\n",
    "print(liste)\n",
    "\n"
   ]
  }
 ],
 "metadata": {
  "kernelspec": {
   "display_name": "Python 3 (ipykernel)",
   "language": "python",
   "name": "python3"
  },
  "language_info": {
   "codemirror_mode": {
    "name": "ipython",
    "version": 3
   },
   "file_extension": ".py",
   "mimetype": "text/x-python",
   "name": "python",
   "nbconvert_exporter": "python",
   "pygments_lexer": "ipython3",
   "version": "3.9.7"
  }
 },
 "nbformat": 4,
 "nbformat_minor": 5
}
