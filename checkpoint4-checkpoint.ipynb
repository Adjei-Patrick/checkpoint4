{
 "cells": [
  {
   "cell_type": "code",
   "execution_count": 1,
   "id": "79810e23",
   "metadata": {},
   "outputs": [
    {
     "name": "stdout",
     "output_type": "stream",
     "text": [
      "35\n"
     ]
    }
   ],
   "source": [
    "#écrire un programme pour connaitre le maximum  de trois nombres\n",
    "def nombres(a,b,c):\n",
    "    if a > b and a > c :\n",
    "        max = a\n",
    "    if b > a and b > c :\n",
    "        max = b\n",
    "    if c > a and c > b :\n",
    "        max = c\n",
    "    return max\n",
    "solution = nombres(20,35,19)\n",
    "print(solution)"
   ]
  },
  {
   "cell_type": "code",
   "execution_count": 34,
   "id": "1a4caca2",
   "metadata": {},
   "outputs": [
    {
     "name": "stdout",
     "output_type": "stream",
     "text": [
      "(50, 30)\n"
     ]
    }
   ],
   "source": [
    "#écrire un programme qui calcule l'addition et la soustraction\n",
    "def calcul(x,y):\n",
    "    return (x + y) , (x - y)\n",
    "print (calcul(40,10))"
   ]
  },
  {
   "cell_type": "code",
   "execution_count": 42,
   "id": "6160990e",
   "metadata": {},
   "outputs": [
    {
     "name": "stdout",
     "output_type": "stream",
     "text": [
      "45\n",
      "[0, 1, 2, 3, 4, 5, 6, 7, 8, 9]\n"
     ]
    }
   ],
   "source": [
    "\"\"\"écrire un programme qui additionne les éléments d'une liste puis les multiplie et ensuite additionne ceux dont\n",
    "   les positions sont pairs et multiplie le reste\"\"\"\n",
    "l = list(range(10))\n",
    "def somme(l:list):\n",
    "    s = 0\n",
    "    for i in l:\n",
    "        s = s + i\n",
    "    return s\n",
    "print(somme(l))\n",
    "print(l)"
   ]
  },
  {
   "cell_type": "code",
   "execution_count": 45,
   "id": "6e4f0d9e",
   "metadata": {},
   "outputs": [
    {
     "name": "stdout",
     "output_type": "stream",
     "text": [
      "362880\n",
      "[1, 2, 3, 4, 5, 6, 7, 8, 9]\n"
     ]
    }
   ],
   "source": [
    "l = list(range(1,10))\n",
    "def multiplication(l:list):\n",
    "    m = 1\n",
    "    for i in l:\n",
    "        m = m * i\n",
    "    return m\n",
    "print(multiplication(l))\n",
    "print(l)"
   ]
  },
  {
   "cell_type": "code",
   "execution_count": 58,
   "id": "d05a8df7",
   "metadata": {},
   "outputs": [
    {
     "name": "stdout",
     "output_type": "stream",
     "text": [
      "(20, 945)\n",
      "[0, 1, 2, 3, 4, 5, 6, 7, 8, 9]\n"
     ]
    }
   ],
   "source": [
    "l = list(range(0,10))\n",
    "def operation(l:list):\n",
    "    s = 0\n",
    "    m = 1\n",
    "    for i in l:\n",
    "        if i % 2 == 0:\n",
    "            s = s + i\n",
    "        else:\n",
    "            m = m * i\n",
    "    return s, m\n",
    "print(operation(l))\n",
    "print(l)"
   ]
  },
  {
   "cell_type": "code",
   "execution_count": 44,
   "id": "2270596f",
   "metadata": {},
   "outputs": [
    {
     "name": "stdout",
     "output_type": "stream",
     "text": [
      "blanc-jaune-noir-rouge-vert\n"
     ]
    }
   ],
   "source": [
    "#écrire un programme qui separe par tiret une séquence de mots par ordre alphabétique\n",
    "seq = \"vert-rouge-jaune-noir-blanc\"\n",
    "def sequence(seq):\n",
    "    chn = \"\"\n",
    "    b = seq.split(\"-\")\n",
    "    b.sort()\n",
    "    for i in b:\n",
    "        if i == b[0] :\n",
    "            chn = chn + i\n",
    "        else:\n",
    "            chn = chn + \"-\" + i\n",
    "    return chn\n",
    "print(sequence(seq))"
   ]
  },
  {
   "cell_type": "code",
   "execution_count": 63,
   "id": "845bfceb",
   "metadata": {},
   "outputs": [
    {
     "name": "stdout",
     "output_type": "stream",
     "text": [
      "veillez saisair trois nombres svp :100,150,180\n",
      "18,22,24\n"
     ]
    }
   ],
   "source": [
    "#écrire une fonction qui calcule et imprime la valeur selon une fomule donnné\n",
    "import math\n",
    "n = input(\"veillez saisair trois nombres svp :\")\n",
    "def resultat(parameter):\n",
    "    p = \"\"\n",
    "    D = parameter.split(\",\")\n",
    "    C = 50\n",
    "    H = 30\n",
    "    for i in D:\n",
    "        Q = round(math.sqrt((2*C*int(i))/H))\n",
    "        if i == D[0] :\n",
    "            p = p + str(Q)\n",
    "        else:\n",
    "            p = p + \",\" + str(Q)\n",
    "    return p\n",
    "print(resultat(n))"
   ]
  },
  {
   "cell_type": "code",
   "execution_count": null,
   "id": "31088530",
   "metadata": {},
   "outputs": [],
   "source": []
  }
 ],
 "metadata": {
  "kernelspec": {
   "display_name": "Python 3 (ipykernel)",
   "language": "python",
   "name": "python3"
  },
  "language_info": {
   "codemirror_mode": {
    "name": "ipython",
    "version": 3
   },
   "file_extension": ".py",
   "mimetype": "text/x-python",
   "name": "python",
   "nbconvert_exporter": "python",
   "pygments_lexer": "ipython3",
   "version": "3.9.7"
  }
 },
 "nbformat": 4,
 "nbformat_minor": 5
}
